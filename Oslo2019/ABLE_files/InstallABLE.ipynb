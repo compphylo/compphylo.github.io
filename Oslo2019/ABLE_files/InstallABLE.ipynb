{
 "cells": [
  {
   "cell_type": "markdown",
   "metadata": {},
   "source": [
    "## Setting up ABLE normally (_i.e._ outside of workshop)\n",
    "The original install instructions can be found directly from the [ABLE Github repository](https://github.com/champost/ABLE/blob/master/README.md).\n"
   ]
  },
  {
   "cell_type": "markdown",
   "metadata": {},
   "source": [
    "\n",
    "## Setting up ABLE for CompPhylo\n",
    "\n",
    "- Open a terminal from your `Jupyter` notebook and make sure you are in your home folder\n",
    "```\n",
    "cd\n",
    "```\n",
    "\n",
    "- Download the compiled `ABLE` repository from the shared work folder for project `nn9458k`\n",
    "```\n",
    "rsync -a /work/projects/nn9458k/ABLE.tar.bz2 .\n",
    "tar -xjf ABLE.tar.bz2\n",
    "```\n",
    "\n",
    "- Make it easier to run `ABLE` from anywhere on your setup by adding it to the `PATH` variable\n",
    "```\n",
    "mkdir bin\n",
    "cd bin\n",
    "ln -s ../tmp/ABLE/ABLE ABLE\n",
    "cd ..\n",
    "export PATH=\"$HOME/bin:$PATH\"\n",
    "```\n",
    "\n"
   ]
  },
  {
   "cell_type": "code",
   "execution_count": null,
   "metadata": {},
   "outputs": [],
   "source": []
  }
 ],
 "metadata": {
  "kernelspec": {
   "display_name": "Python 2",
   "language": "python",
   "name": "python2"
  },
  "language_info": {
   "codemirror_mode": {
    "name": "ipython",
    "version": 2
   },
   "file_extension": ".py",
   "mimetype": "text/x-python",
   "name": "python",
   "nbconvert_exporter": "python",
   "pygments_lexer": "ipython2",
   "version": "2.7.15+"
  }
 },
 "nbformat": 4,
 "nbformat_minor": 2
}
